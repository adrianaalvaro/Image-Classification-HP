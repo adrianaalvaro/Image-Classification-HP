{
  "cells": [
    {
      "cell_type": "code",
      "execution_count": 2,
      "id": "fd259657",
      "metadata": {
        "id": "fd259657",
        "outputId": "e38985ec-e4fd-4f30-d754-9ac94442cbd0",
        "colab": {
          "base_uri": "https://localhost:8080/"
        }
      },
      "outputs": [
        {
          "output_type": "stream",
          "name": "stdout",
          "text": [
            "True\n",
            "cuda:0\n"
          ]
        }
      ],
      "source": [
        "from __future__ import print_function, division\n",
        "\n",
        "import torch\n",
        "import torch.nn as nn\n",
        "import torch.optim as optim\n",
        "from torch.optim import lr_scheduler\n",
        "import numpy as np\n",
        "import torchvision\n",
        "from torchvision import datasets, models, transforms\n",
        "\n",
        "%matplotlib inline\n",
        "import matplotlib.pyplot as plt\n",
        "import time\n",
        "import os\n",
        "import copy\n",
        "import shutil\n",
        "\n",
        "plt.ion()\n",
        "\n",
        "from PIL import Image\n",
        "# Verificar si hay una GPU disponible\n",
        "print(torch.cuda.is_available())\n",
        "\n",
        "# Establecer la GPU como dispositivo predeterminado\n",
        "device = torch.device(\"cuda:0\" if torch.cuda.is_available() else \"cpu\")\n",
        "print(device)"
      ]
    },
    {
      "cell_type": "code",
      "execution_count": null,
      "id": "b71ce77c",
      "metadata": {
        "id": "b71ce77c"
      },
      "outputs": [],
      "source": [
        "data_transforms = {\n",
        "       'train_or': transforms.Compose([\n",
        "        transforms.RandomResizedCrop(224),\n",
        "        transforms.RandomHorizontalFlip(), #data augmentation\n",
        "        transforms.ToTensor(),       # Convert the image to a tensor with pixels in the range [0, 1]\n",
        "        transforms.Normalize([0.485, 0.456, 0.406], [0.229, 0.224, 0.225])\n",
        "\n",
        "    ]),\n",
        "    'test': transforms.Compose([\n",
        "        transforms.Resize(256),       # Resize the short side of the image to 150 keeping aspect ratio\n",
        "        transforms.CenterCrop(224),   # Crop a square in the center of the image\n",
        "        transforms.ToTensor(),        # Convert the image to a tensor with pixels in the range [0, 1]\n",
        "        transforms.Normalize([0.485, 0.456, 0.406], [0.229, 0.224, 0.225])\n",
        "    ]),\n",
        "}\n"
      ]
    },
    {
      "cell_type": "code",
      "execution_count": null,
      "id": "a051cb2d",
      "metadata": {
        "id": "a051cb2d"
      },
      "outputs": [],
      "source": [
        "# Loading datasets with Pytorch ImageFolder\n",
        "data_dir = '/content/drive/MyDrive/TOP_ROSIES/Challenge_HP/All_images'\n",
        "\n",
        "image_datasets_or = {x: datasets.ImageFolder(os.path.join(data_dir, x),\n",
        "                                          data_transforms[x])\n",
        "                  for x in ['train_or', 'test']}\n",
        "\n",
        "class_names = image_datasets_or['train_or'].classes\n",
        "num_clases=len(class_names)\n",
        "num_im_train_or,num_im_test=len(image_datasets_or['train_or']),len(image_datasets_or['test'])\n"
      ]
    },
    {
      "cell_type": "markdown",
      "id": "d7cd1ffb",
      "metadata": {
        "id": "d7cd1ffb"
      },
      "source": [
        "Separamos el conjunto de train_or en train y val"
      ]
    },
    {
      "cell_type": "code",
      "execution_count": null,
      "id": "8488854e",
      "metadata": {
        "id": "8488854e",
        "colab": {
          "base_uri": "https://localhost:8080/",
          "height": 235
        },
        "outputId": "37cb84ff-22b9-4435-ccc7-2a692d31b427"
      },
      "outputs": [
        {
          "output_type": "error",
          "ename": "NameError",
          "evalue": "ignored",
          "traceback": [
            "\u001b[0;31m---------------------------------------------------------------------------\u001b[0m",
            "\u001b[0;31mNameError\u001b[0m                                 Traceback (most recent call last)",
            "\u001b[0;32m<ipython-input-6-5046f8ecead4>\u001b[0m in \u001b[0;36m<module>\u001b[0;34m\u001b[0m\n\u001b[1;32m      1\u001b[0m \u001b[0;32mfrom\u001b[0m \u001b[0msklearn\u001b[0m\u001b[0;34m.\u001b[0m\u001b[0mmodel_selection\u001b[0m \u001b[0;32mimport\u001b[0m \u001b[0mtrain_test_split\u001b[0m\u001b[0;34m\u001b[0m\u001b[0;34m\u001b[0m\u001b[0m\n\u001b[1;32m      2\u001b[0m \u001b[0;34m\u001b[0m\u001b[0m\n\u001b[0;32m----> 3\u001b[0;31m \u001b[0mimages\u001b[0m\u001b[0;34m=\u001b[0m\u001b[0;34m[\u001b[0m\u001b[0mimg\u001b[0m \u001b[0;32mfor\u001b[0m \u001b[0mimg\u001b[0m\u001b[0;34m,\u001b[0m\u001b[0mclass_idx\u001b[0m \u001b[0;32min\u001b[0m \u001b[0mimage_datasets_or\u001b[0m\u001b[0;34m[\u001b[0m\u001b[0;34m'train_or'\u001b[0m\u001b[0;34m]\u001b[0m\u001b[0;34m.\u001b[0m\u001b[0mimgs\u001b[0m\u001b[0;34m]\u001b[0m\u001b[0;34m\u001b[0m\u001b[0;34m\u001b[0m\u001b[0m\n\u001b[0m\u001b[1;32m      4\u001b[0m \u001b[0;31m#labels es una lista con el indicie que indica la clase de cada imagen en el dataset train. Dimension[num_im_train,]\u001b[0m\u001b[0;34m\u001b[0m\u001b[0;34m\u001b[0m\u001b[0;34m\u001b[0m\u001b[0m\n\u001b[1;32m      5\u001b[0m \u001b[0mlabels\u001b[0m\u001b[0;34m=\u001b[0m\u001b[0mnp\u001b[0m\u001b[0;34m.\u001b[0m\u001b[0marray\u001b[0m\u001b[0;34m(\u001b[0m\u001b[0;34m[\u001b[0m\u001b[0mlabel\u001b[0m \u001b[0;32mfor\u001b[0m \u001b[0m_\u001b[0m\u001b[0;34m,\u001b[0m\u001b[0mlabel\u001b[0m \u001b[0;32min\u001b[0m \u001b[0mimage_datasets_or\u001b[0m\u001b[0;34m[\u001b[0m\u001b[0;34m'train_or'\u001b[0m\u001b[0;34m]\u001b[0m\u001b[0;34m.\u001b[0m\u001b[0mimgs\u001b[0m\u001b[0;34m]\u001b[0m\u001b[0;34m)\u001b[0m\u001b[0;34m\u001b[0m\u001b[0;34m\u001b[0m\u001b[0m\n",
            "\u001b[0;31mNameError\u001b[0m: name 'image_datasets_or' is not defined"
          ]
        }
      ],
      "source": [
        "from sklearn.model_selection import train_test_split\n",
        "\n",
        "images=[img for img,class_idx in image_datasets_or['train_or'].imgs]\n",
        "#labels es una lista con el indicie que indica la clase de cada imagen en el dataset train. Dimension[num_im_train,]\n",
        "labels=np.array([label for _,label in image_datasets_or['train_or'].imgs])\n",
        "\n",
        "# Crea un arreglo de índices para tus imágenes\n",
        "indices = np.arange(len(images))\n",
        "\n",
        "# Usa train_test_split para dividir los índices en dos subconjuntos, train y validación\n",
        "train_idx, val_idx = train_test_split(indices, test_size=0.2, stratify=labels, random_state=42)\n",
        "\n",
        "# Crea los subconjuntos de imágenes y etiquetas correspondientes\n",
        "train_images = [images[idx] for idx in train_idx]\n",
        "val_images = [images[idx] for idx in val_idx]\n",
        "train_labels = [labels[idx] for idx in train_idx]\n",
        "val_labels = [labels[idx] for idx in val_idx]"
      ]
    },
    {
      "cell_type": "code",
      "execution_count": null,
      "id": "7f740b08",
      "metadata": {
        "id": "7f740b08",
        "colab": {
          "base_uri": "https://localhost:8080/",
          "height": 235
        },
        "outputId": "f40ca11f-7259-4a84-a8ba-a23e6ecbf7a9"
      },
      "outputs": [
        {
          "output_type": "error",
          "ename": "NameError",
          "evalue": "ignored",
          "traceback": [
            "\u001b[0;31m---------------------------------------------------------------------------\u001b[0m",
            "\u001b[0;31mNameError\u001b[0m                                 Traceback (most recent call last)",
            "\u001b[0;32m<ipython-input-10-cfd15e88bc25>\u001b[0m in \u001b[0;36m<module>\u001b[0;34m\u001b[0m\n\u001b[1;32m     18\u001b[0m \u001b[0;34m\u001b[0m\u001b[0m\n\u001b[1;32m     19\u001b[0m \u001b[0;32mfor\u001b[0m \u001b[0;34m(\u001b[0m\u001b[0mpath\u001b[0m\u001b[0;34m,\u001b[0m \u001b[0mclass_id\u001b[0m\u001b[0;34m)\u001b[0m \u001b[0;32min\u001b[0m \u001b[0mimage_datasets_or\u001b[0m\u001b[0;34m[\u001b[0m\u001b[0;34m'train_or'\u001b[0m\u001b[0;34m]\u001b[0m\u001b[0;34m.\u001b[0m\u001b[0mimgs\u001b[0m\u001b[0;34m:\u001b[0m\u001b[0;34m\u001b[0m\u001b[0;34m\u001b[0m\u001b[0m\n\u001b[0;32m---> 20\u001b[0;31m     \u001b[0;32mif\u001b[0m \u001b[0mpath\u001b[0m \u001b[0;32min\u001b[0m \u001b[0mtrain_images\u001b[0m\u001b[0;34m:\u001b[0m\u001b[0;34m\u001b[0m\u001b[0;34m\u001b[0m\u001b[0m\n\u001b[0m\u001b[1;32m     21\u001b[0m         \u001b[0mclass_name\u001b[0m \u001b[0;34m=\u001b[0m \u001b[0mclass_names\u001b[0m\u001b[0;34m[\u001b[0m\u001b[0mclass_id\u001b[0m\u001b[0;34m]\u001b[0m\u001b[0;34m\u001b[0m\u001b[0;34m\u001b[0m\u001b[0m\n\u001b[1;32m     22\u001b[0m         \u001b[0mclass_dir\u001b[0m \u001b[0;34m=\u001b[0m \u001b[0mos\u001b[0m\u001b[0;34m.\u001b[0m\u001b[0mpath\u001b[0m\u001b[0;34m.\u001b[0m\u001b[0mjoin\u001b[0m\u001b[0;34m(\u001b[0m\u001b[0mtrain_folder\u001b[0m\u001b[0;34m,\u001b[0m \u001b[0mclass_name\u001b[0m\u001b[0;34m)\u001b[0m\u001b[0;34m\u001b[0m\u001b[0;34m\u001b[0m\u001b[0m\n",
            "\u001b[0;31mNameError\u001b[0m: name 'train_images' is not defined"
          ]
        }
      ],
      "source": [
        "#creamos las carpetas de train y val\n",
        "train_folder = os.path.join(data_dir, 'train')\n",
        "if not os.path.exists(train_folder):\n",
        "    os.mkdir(train_folder)\n",
        "    \n",
        "val_folder = os.path.join(data_dir, 'val')\n",
        "if not os.path.exists(val_folder):\n",
        "    os.mkdir(val_folder)\n",
        "\n",
        "#creamos las subcarpetas para cada clase\n",
        "for fold in ['train','val']:\n",
        "    folder=os.path.join(data_dir,fold)\n",
        "    for class_name in class_names:\n",
        "        class_dir = os.path.join(folder, class_name)\n",
        "        if not os.path.exists(class_dir):\n",
        "            os.mkdir(class_dir)   \n",
        " \n",
        "\n",
        "for (path, class_id) in image_datasets_or['train_or'].imgs:\n",
        "    if path in train_images:\n",
        "        class_name = class_names[class_id]\n",
        "        class_dir = os.path.join(train_folder, class_name)\n",
        "        if not os.path.exists(os.path.join(train_folder, os.path.basename(path))):\n",
        "            shutil.copy2(path, class_dir)\n",
        "    if path in val_images:\n",
        "        class_name = class_names[class_id]\n",
        "        class_dir = os.path.join(val_folder, class_name)\n",
        "        if not os.path.exists(os.path.join(val_folder, os.path.basename(path))):\n",
        "            shutil.copy2(path, class_dir)\n"
      ]
    },
    {
      "cell_type": "code",
      "execution_count": 8,
      "id": "16f62cec",
      "metadata": {
        "id": "16f62cec"
      },
      "outputs": [],
      "source": [
        "data_dir = '/content/drive/MyDrive/TOP_ROSIES/Challenge_HP/All_images'\n",
        "data_transforms = {\n",
        "       'train': transforms.Compose([\n",
        "        transforms.RandomResizedCrop(224),\n",
        "        transforms.RandomHorizontalFlip(), #data augmentation\n",
        "        transforms.ToTensor(),       # Convert the image to a tensor with pixels in the range [0, 1]\n",
        "        transforms.Normalize([0.485, 0.456, 0.406], [0.229, 0.224, 0.225])\n",
        "\n",
        "    ]),\n",
        "    'val': transforms.Compose([\n",
        "        transforms.Resize(256),       # Resize the short side of the image to 150 keeping aspect ratio\n",
        "        transforms.CenterCrop(224),   # Crop a square in the center of the image\n",
        "        transforms.ToTensor(),        # Convert the image to a tensor with pixels in the range [0, 1]\n",
        "        transforms.Normalize([0.485, 0.456, 0.406], [0.229, 0.224, 0.225])\n",
        "    ]),\n",
        "    \n",
        "    'test': transforms.Compose([\n",
        "        transforms.Resize(256),       # Resize the short side of the image to 150 keeping aspect ratio\n",
        "        transforms.CenterCrop(224),   # Crop a square in the center of the image\n",
        "        transforms.ToTensor(),        # Convert the image to a tensor with pixels in the range [0, 1]\n",
        "        transforms.Normalize([0.485, 0.456, 0.406], [0.229, 0.224, 0.225])\n",
        "    ]),\n",
        "}\n"
      ]
    },
    {
      "cell_type": "code",
      "execution_count": 16,
      "id": "99842361",
      "metadata": {
        "id": "99842361",
        "outputId": "795fb1b8-6d70-424b-b3f6-e19f7c8376e3",
        "colab": {
          "base_uri": "https://localhost:8080/"
        }
      },
      "outputs": [
        {
          "output_type": "stream",
          "name": "stdout",
          "text": [
            "['Documents', 'Plans', 'Tickets']\n"
          ]
        }
      ],
      "source": [
        "image_datasets = {x: datasets.ImageFolder(os.path.join(data_dir, x),\n",
        "                                          data_transforms[x])\n",
        "                  for x in ['train', 'val','test']}\n",
        "\n",
        "num_im_train,num_im_val=len(image_datasets['train']),len(image_datasets['val'])\n",
        "\n",
        "# import math\n",
        "# size_batches=math.gcd(num_im_train,num_im_val)\n",
        "# size_batches=math.gcd(size_batches,num_im_test)\n",
        "\n",
        "dataloaders = {x: torch.utils.data.DataLoader(image_datasets[x], batch_size=10,\n",
        "                                             shuffle=True, num_workers=2)\n",
        "              for x in ['train', 'val','test']}\n",
        "\n",
        "dataset_sizes = {x: len(image_datasets[x]) for x in ['train', 'val','test']}\n",
        "\n",
        "class_names = image_datasets['train'].classes\n",
        "num_clases=len(class_names)\n",
        "\n",
        "trainloader=dataloaders['train']\n",
        "valloader=dataloaders['val']\n",
        "testloader=dataloaders['test']\n",
        "\n",
        "print(class_names)"
      ]
    },
    {
      "cell_type": "code",
      "source": [
        "for img,idx in image_datasets['train']:\n",
        "  print (img.shape)\n",
        "  pass"
      ],
      "metadata": {
        "id": "Jv3pjkdLtO9O"
      },
      "id": "Jv3pjkdLtO9O",
      "execution_count": null,
      "outputs": []
    },
    {
      "cell_type": "code",
      "execution_count": null,
      "id": "36c892bd",
      "metadata": {
        "id": "36c892bd"
      },
      "outputs": [],
      "source": [
        "class_to_idx = image_datasets['train'].class_to_idx #diccionario con el indice que representa cada clase\n",
        "\n",
        "class_counts_train = {cls: 0 for cls in class_to_idx.keys()} #iniciarlizar diccionario con el numero de imagenes de cada clase a 0\n",
        "class_counts_val = {cls: 0 for cls in class_to_idx.keys()}\n",
        "class_counts_test = {cls: 0 for cls in class_to_idx.keys()}\n",
        "\n",
        "#el conjunto image_datasets['train'] es una lista de tuples. Cada tuple es: (tensor que representa la imagen,indice que representa la clase a la que pertenece)\n",
        "for img, cls in image_datasets['train']:\n",
        "    if cls==0:\n",
        "        class_counts_train['Documents'] += 1\n",
        "    if cls==1:\n",
        "        class_counts_train['Plans'] += 1\n",
        "    if cls==2:\n",
        "        class_counts_train['Tickets'] += 1\n",
        "        \n",
        "for img, cls in image_datasets['val']:\n",
        "    if cls==0:\n",
        "        class_counts_val['Documents'] += 1\n",
        "    if cls==1:\n",
        "        class_counts_val['Plans'] += 1\n",
        "    if cls==2:\n",
        "        class_counts_val['Tickets'] += 1 \n",
        "\n",
        "for img, cls in image_datasets['test']:\n",
        "    if cls==0:\n",
        "        class_counts_test['Documents'] += 1\n",
        "    if cls==1:\n",
        "        class_counts_test['Plans'] += 1\n",
        "    if cls==2:\n",
        "        class_counts_test['Tickets'] += 1\n",
        "        \n",
        "print('Train: ',class_counts_train)\n",
        "print('Val: ',class_counts_val)\n",
        "print('Test: ',class_counts_test)\n"
      ]
    },
    {
      "cell_type": "code",
      "execution_count": null,
      "id": "d6bda371",
      "metadata": {
        "id": "d6bda371",
        "outputId": "076eb809-7008-4647-8cd0-9ff5ffcfb53b",
        "colab": {
          "base_uri": "https://localhost:8080/",
          "height": 148
        }
      },
      "outputs": [
        {
          "output_type": "display_data",
          "data": {
            "text/plain": [
              "<Figure size 432x288 with 1 Axes>"
            ],
            "image/png": "[encoded data removed]"
          },
          "metadata": {
            "needs_background": "light"
          }
        }
      ],
      "source": [
        "def imshow(inp, title=None):\n",
        "    \"\"\"Imshow for Tensor.\"\"\"\n",
        "    inp = inp.numpy().transpose((1, 2, 0))\n",
        "    mean = np.array([0.485, 0.456, 0.406])\n",
        "    std = np.array([0.229, 0.224, 0.225])\n",
        "    inp = std * inp + mean\n",
        "    inp = np.clip(inp, 0, 1)\n",
        "    plt.imshow(inp)\n",
        "    if title is not None:\n",
        "        plt.title(title)\n",
        "    plt.pause(0.001)  # pause a bit so that plots are updated\n",
        "\n",
        "\n",
        "# Get a batch of training data\n",
        "inputs, classes = next(iter(trainloader))\n",
        "\n",
        "# Make a grid from batch\n",
        "out = torchvision.utils.make_grid(inputs)\n",
        "\n",
        "imshow(out, title=[class_names[x] for x in classes])"
      ]
    },
    {
      "cell_type": "code",
      "execution_count": null,
      "id": "a2436229",
      "metadata": {
        "id": "a2436229"
      },
      "outputs": [],
      "source": [
        "def train_model(model, criterion, optimizer, scheduler, num_epochs=25):\n",
        "    since = time.time()\n",
        "\n",
        "    best_model_wts = copy.deepcopy(model.state_dict())\n",
        "    best_acc = 0.0\n",
        "\n",
        "    for epoch in range(num_epochs):\n",
        "        print('Epoch {}/{}'.format(epoch, num_epochs - 1))\n",
        "        print('-' * 10)\n",
        "\n",
        "        # Each epoch has a training and validation phase\n",
        "        for phase in ['train', 'val']:\n",
        "            if phase == 'train':\n",
        "                \n",
        "                model.train()  # Set model to training mode\n",
        "            else:\n",
        "                model.eval()   # Set model to evaluate mode\n",
        "\n",
        "            running_loss = 0.0\n",
        "            running_corrects = 0\n",
        "\n",
        "            # Iterate over data.\n",
        "            for inputs, labels in dataloaders[phase]:\n",
        "                inputs = inputs.to(device)\n",
        "                labels = labels.to(device)\n",
        "\n",
        "                # zero the parameter gradients\n",
        "                optimizer.zero_grad()\n",
        "\n",
        "                # forward\n",
        "                # track history if only in train\n",
        "                with torch.set_grad_enabled(phase == 'train'):\n",
        "                    outputs = model(inputs)\n",
        "                    _, preds = torch.max(outputs, 1)\n",
        "                    loss = criterion(outputs, labels)\n",
        "\n",
        "                    # backward + optimize only if in training phase\n",
        "                    if phase == 'train':\n",
        "                        loss.backward()\n",
        "                        optimizer.step()\n",
        "\n",
        "                # statistics\n",
        "                running_loss += loss.item() * inputs.size(0)\n",
        "                running_corrects += torch.sum(preds == labels.data)\n",
        "\n",
        "            epoch_loss = running_loss / dataset_sizes[phase]\n",
        "            epoch_acc = running_corrects.double() / dataset_sizes[phase]\n",
        "\n",
        "            print('{} Loss: {:.4f} Acc: {:.4f}'.format(\n",
        "                phase, epoch_loss, epoch_acc))\n",
        "\n",
        "            # deep copy the model\n",
        "            if phase == 'val' and epoch_acc > best_acc:\n",
        "                best_acc = epoch_acc\n",
        "                best_model_wts = copy.deepcopy(model.state_dict())\n",
        "        scheduler.step()    \n",
        "        print()\n",
        "\n",
        "    time_elapsed = time.time() - since\n",
        "    print('Training complete in {:.0f}m {:.0f}s'.format(\n",
        "        time_elapsed // 60, time_elapsed % 60))\n",
        "    print('Best val Acc: {:4f}'.format(best_acc))\n",
        "\n",
        "    # load best model weights\n",
        "    model.load_state_dict(best_model_wts)\n",
        "    return model"
      ]
    },
    {
      "cell_type": "code",
      "execution_count": null,
      "id": "31add74f",
      "metadata": {
        "id": "31add74f"
      },
      "outputs": [],
      "source": [
        "def visualize_model(model, num_images=4):\n",
        "    was_training = model.training\n",
        "    model.eval()\n",
        "    images_so_far = 0\n",
        "    fig = plt.figure()\n",
        "\n",
        "    with torch.no_grad():\n",
        "        for i, (inputs, labels) in enumerate(dataloaders['val']):\n",
        "            inputs = inputs.to(device)\n",
        "            labels = labels.to(device)\n",
        "\n",
        "            outputs = model(inputs)\n",
        "            _, preds = torch.max(outputs, 1)\n",
        "\n",
        "            for j in range(inputs.size()[0]):\n",
        "                images_so_far += 1\n",
        "                ax = plt.subplot(num_images//2, 2, images_so_far)\n",
        "                ax.axis('off')\n",
        "                ax.set_title('predicted: {}'.format(class_names[preds[j]]))\n",
        "                imshow(inputs.cpu().data[j])\n",
        "\n",
        "                if images_so_far == num_images:\n",
        "                    model.train(mode=was_training)\n",
        "                    return\n",
        "        model.train(mode=was_training)"
      ]
    },
    {
      "cell_type": "markdown",
      "id": "179ad597",
      "metadata": {
        "id": "179ad597"
      },
      "source": [
        "Congelamos los parámetros del modelo, y añadimos una última capa que es la que entrenaremos."
      ]
    },
    {
      "cell_type": "code",
      "execution_count": null,
      "id": "8c3a0f3b",
      "metadata": {
        "id": "8c3a0f3b",
        "colab": {
          "base_uri": "https://localhost:8080/",
          "height": 156,
          "referenced_widgets": [
            "1fe382ba4e754435a5fe4a0993c0d4b6",
            "a5534f75c0e34033a1e4aec6cbb97a57",
            "eb716346e5964d83953594429b8958b4",
            "1a06ab2e5f8b4fc39e8339f29a09b9dc",
            "52f3e78556c244869b80adf3e8ce7963",
            "8432580d08de4cedb8c39b35fc3bcd68",
            "674d7b321262456d95e1670974dc11c6",
            "cfed61fb984f4ffd97ca36b35bce7c8c",
            "f485eed5e47141c5b5633aeb32c96791",
            "1b645c9c4c194eb981dccc6a82f903d3",
            "4a4dd43594e941ce9ad857ab1263732c"
          ]
        },
        "outputId": "9edc1c81-8843-4603-a9db-cd40d913c9de"
      },
      "outputs": [
        {
          "output_type": "stream",
          "name": "stderr",
          "text": [
            "/usr/local/lib/python3.8/dist-packages/torchvision/models/_utils.py:208: UserWarning: The parameter 'pretrained' is deprecated since 0.13 and may be removed in the future, please use 'weights' instead.\n",
            "  warnings.warn(\n",
            "/usr/local/lib/python3.8/dist-packages/torchvision/models/_utils.py:223: UserWarning: Arguments other than a weight enum or `None` for 'weights' are deprecated since 0.13 and may be removed in the future. The current behavior is equivalent to passing `weights=ResNet18_Weights.IMAGENET1K_V1`. You can also use `weights=ResNet18_Weights.DEFAULT` to get the most up-to-date weights.\n",
            "  warnings.warn(msg)\n",
            "Downloading: \"https://download.pytorch.org/models/resnet18-f37072fd.pth\" to /root/.cache/torch/hub/checkpoints/resnet18-f37072fd.pth\n"
          ]
        },
        {
          "output_type": "display_data",
          "data": {
            "text/plain": [
              "  0%|          | 0.00/44.7M [00:00<?, ?B/s]"
            ],
            "application/vnd.jupyter.widget-view+json": {
              "version_major": 2,
              "version_minor": 0,
              "model_id": "1fe382ba4e754435a5fe4a0993c0d4b6"
            }
          },
          "metadata": {}
        }
      ],
      "source": [
        "model_conv = torchvision.models.resnet18(pretrained=True)\n",
        "for param in model_conv.parameters():\n",
        "    param.requires_grad = False\n",
        "\n",
        "# Parameters of newly constructed modules have requires_grad=True by default\n",
        "num_ftrs = model_conv.fc.in_features\n",
        "model_conv.fc = nn.Linear(num_ftrs, num_clases)\n",
        "\n",
        "model_conv = model_conv.to(device)\n",
        "\n",
        "criterion = nn.CrossEntropyLoss()\n",
        "\n",
        "# Observe that only parameters of final layer are being optimized as\n",
        "# opoosed to before.\n",
        "optimizer_conv = optim.SGD(model_conv.fc.parameters(), lr=0.001, momentum=0.9)\n",
        "\n",
        "# Decay LR by a factor of 0.1 every 7 epochs\n",
        "exp_lr_scheduler = lr_scheduler.StepLR(optimizer_conv, step_size=7, gamma=0.1)"
      ]
    },
    {
      "cell_type": "code",
      "execution_count": null,
      "id": "2cbd36ca",
      "metadata": {
        "collapsed": true,
        "id": "2cbd36ca"
      },
      "outputs": [],
      "source": [
        "model_conv = train_model(model_conv, criterion, optimizer_conv,\n",
        "                         exp_lr_scheduler, num_epochs=25)\n",
        "torch.save({\n",
        "            'model_state_dict': model_conv.state_dict(),\n",
        "            'optimizer_state_dict': optimizer_conv.state_dict(),\n",
        "            'scheduler_state_dict': exp_lr_scheduler.state_dict(),\n",
        "            }, '/content/drive/MyDrive/TOP_ROSIES/Challenge_HP/checkpoint.pt')\n",
        "checkpoint = torch.load('/content/drive/MyDrive/TOP_ROSIES/Challenge_HP/checkpoint.pt')\n",
        "model_conv.load_state_dict(checkpoint['model_state_dict'])\n",
        "optimizer_conv.load_state_dict(checkpoint['optimizer_state_dict'])\n",
        "exp_lr_scheduler.load_state_dict(checkpoint['scheduler_state_dict'])\n",
        "model_conv.eval()\n"
      ]
    },
    {
      "cell_type": "code",
      "execution_count": 5,
      "id": "f3af6575",
      "metadata": {
        "id": "f3af6575",
        "colab": {
          "base_uri": "https://localhost:8080/",
          "height": 235
        },
        "outputId": "30c7ec64-0b29-4a7f-b2e0-416f49feb713"
      },
      "outputs": [
        {
          "output_type": "error",
          "ename": "NameError",
          "evalue": "ignored",
          "traceback": [
            "\u001b[0;31m---------------------------------------------------------------------------\u001b[0m",
            "\u001b[0;31mNameError\u001b[0m                                 Traceback (most recent call last)",
            "\u001b[0;32m<ipython-input-5-51dfa4f6e5f2>\u001b[0m in \u001b[0;36m<module>\u001b[0;34m\u001b[0m\n\u001b[1;32m      7\u001b[0m \u001b[0;34m\u001b[0m\u001b[0m\n\u001b[1;32m      8\u001b[0m \u001b[0mcheckpoint\u001b[0m \u001b[0;34m=\u001b[0m \u001b[0mtorch\u001b[0m\u001b[0;34m.\u001b[0m\u001b[0mload\u001b[0m\u001b[0;34m(\u001b[0m\u001b[0;34m'/content/drive/MyDrive/TOP_ROSIES/Challenge_HP/checkpoint.pt'\u001b[0m\u001b[0;34m)\u001b[0m\u001b[0;34m\u001b[0m\u001b[0;34m\u001b[0m\u001b[0m\n\u001b[0;32m----> 9\u001b[0;31m \u001b[0mmodel_conv\u001b[0m\u001b[0;34m.\u001b[0m\u001b[0mload_state_dict\u001b[0m\u001b[0;34m(\u001b[0m\u001b[0mcheckpoint\u001b[0m\u001b[0;34m[\u001b[0m\u001b[0;34m'model_state_dict'\u001b[0m\u001b[0;34m]\u001b[0m\u001b[0;34m)\u001b[0m\u001b[0;34m\u001b[0m\u001b[0;34m\u001b[0m\u001b[0m\n\u001b[0m\u001b[1;32m     10\u001b[0m \u001b[0moptimizer_conv\u001b[0m\u001b[0;34m.\u001b[0m\u001b[0mload_state_dict\u001b[0m\u001b[0;34m(\u001b[0m\u001b[0mcheckpoint\u001b[0m\u001b[0;34m[\u001b[0m\u001b[0;34m'optimizer_state_dict'\u001b[0m\u001b[0;34m]\u001b[0m\u001b[0;34m)\u001b[0m\u001b[0;34m\u001b[0m\u001b[0;34m\u001b[0m\u001b[0m\n\u001b[1;32m     11\u001b[0m \u001b[0mexp_lr_scheduler\u001b[0m\u001b[0;34m.\u001b[0m\u001b[0mload_state_dict\u001b[0m\u001b[0;34m(\u001b[0m\u001b[0mcheckpoint\u001b[0m\u001b[0;34m[\u001b[0m\u001b[0;34m'scheduler_state_dict'\u001b[0m\u001b[0;34m]\u001b[0m\u001b[0;34m)\u001b[0m\u001b[0;34m\u001b[0m\u001b[0;34m\u001b[0m\u001b[0m\n",
            "\u001b[0;31mNameError\u001b[0m: name 'model_conv' is not defined"
          ]
        }
      ],
      "source": [
        "#para guardar el modelo modo checkpoint (por si quiero seguir entrenandolo)\n",
        "# torch.save({\n",
        "#             'model_state_dict': model_conv.state_dict(),\n",
        "#             'optimizer_state_dict': optimizer_conv.state_dict(),\n",
        "#             'scheduler_state_dict': exp_lr_scheduler.state_dict(),\n",
        "#             }, '/content/drive/MyDrive/TOP_ROSIES/Challenge_HP/checkpoint.pt')\n",
        "\n",
        "checkpoint = torch.load('/content/drive/MyDrive/TOP_ROSIES/Challenge_HP/checkpoint.pt')\n",
        "model_conv.load_state_dict(checkpoint['model_state_dict'])\n",
        "optimizer_conv.load_state_dict(checkpoint['optimizer_state_dict'])\n",
        "exp_lr_scheduler.load_state_dict(checkpoint['scheduler_state_dict'])\n",
        "model_conv.eval()\n",
        "\n",
        "visualize_model(model_conv)\n",
        "\n",
        "plt.ioff()\n",
        "plt.show()"
      ]
    },
    {
      "cell_type": "code",
      "source": [
        "#para guardarlo y no tener que instanciarlo, pero sigue haciendo falta definir la clase model_conv\n",
        "torch.save(model_conv,'/content/drive/MyDrive/TOP_ROSIES/Challenge_HP/trained_model2.pt')"
      ],
      "metadata": {
        "id": "DV8vsh7_ey5L"
      },
      "id": "DV8vsh7_ey5L",
      "execution_count": null,
      "outputs": []
    },
    {
      "cell_type": "code",
      "source": [
        "path_model='/content/drive/MyDrive/TOP_ROSIES/Challenge_HP/'\n",
        "path_model+'traced_model.zip'"
      ],
      "metadata": {
        "colab": {
          "base_uri": "https://localhost:8080/",
          "height": 36
        },
        "id": "Goly4FCPkrqr",
        "outputId": "23293e8e-f667-405d-eb92-082ea57595ec"
      },
      "id": "Goly4FCPkrqr",
      "execution_count": null,
      "outputs": [
        {
          "output_type": "execute_result",
          "data": {
            "text/plain": [
              "'/content/drive/MyDrive/TOP_ROSIES/Challenge_HP/traced_model.zip'"
            ],
            "application/vnd.google.colaboratory.intrinsic+json": {
              "type": "string"
            }
          },
          "metadata": {},
          "execution_count": 44
        }
      ]
    },
    {
      "cell_type": "markdown",
      "source": [
        "Exportarlo y usarlo en otras aplicaciones:. tracing y scripting. Sigue necesitando torchscript (o python o C++)\n"
      ],
      "metadata": {
        "id": "fCZ_eWrSnlUz"
      },
      "id": "fCZ_eWrSnlUz"
    },
    {
      "cell_type": "code",
      "source": [
        "\n",
        "#tracing: utiliza el input para hacer las operaciones que determine el modelo, pero si hay alguna ramificación no la captura\n",
        "\n",
        "# path_model='/content/drive/MyDrive/TOP_ROSIES/Challenge_HP/'\n",
        "# input=torch.rand(10,3,24,24)\n",
        "# traced_model=torch.jit.trace(model_conv.cpu(),input)\n",
        "# traced_model.save(path_model+'traced_model.zip')\n",
        "\n",
        "loaded_model=torch.jit.load(path_model+'traced_model.zip')\n",
        "\n",
        "#scripted: captura todas las operaciones. \n",
        "scripted_model=torch.jit.script(model_conv.cpu())\n",
        "scripted_model.save(path_model+'scripted_model.zip')"
      ],
      "metadata": {
        "id": "_4eQ_Czyf_B1"
      },
      "id": "_4eQ_Czyf_B1",
      "execution_count": null,
      "outputs": []
    },
    {
      "cell_type": "code",
      "execution_count": null,
      "id": "f323cf41",
      "metadata": {
        "id": "f323cf41",
        "outputId": "0aa0dbd7-4b3c-4d1d-cf61-92b1dca5024b",
        "colab": {
          "base_uri": "https://localhost:8080/",
          "height": 863
        }
      },
      "outputs": [
        {
          "output_type": "stream",
          "name": "stdout",
          "text": [
            "Train set classification report\n",
            "\n",
            "              precision    recall  f1-score   support\n",
            "\n",
            "           0       1.00      0.45      0.62        11\n",
            "           1       0.99      0.98      0.99       446\n",
            "           2       0.92      0.99      0.95       169\n",
            "\n",
            "    accuracy                           0.97       626\n",
            "   macro avg       0.97      0.81      0.85       626\n",
            "weighted avg       0.97      0.97      0.97       626\n",
            "\n"
          ]
        },
        {
          "output_type": "display_data",
          "data": {
            "text/plain": [
              "<Figure size 216x216 with 2 Axes>"
            ],
            "image/png": "[encoded data removed]"
          },
          "metadata": {
            "needs_background": "light"
          }
        },
        {
          "output_type": "stream",
          "name": "stdout",
          "text": [
            "Validation set classification report\n",
            "\n",
            "              precision    recall  f1-score   support\n",
            "\n",
            "           0       1.00      1.00      1.00         3\n",
            "           1       1.00      0.99      1.00       112\n",
            "           2       0.98      1.00      0.99        42\n",
            "\n",
            "    accuracy                           0.99       157\n",
            "   macro avg       0.99      1.00      0.99       157\n",
            "weighted avg       0.99      0.99      0.99       157\n",
            "\n"
          ]
        },
        {
          "output_type": "display_data",
          "data": {
            "text/plain": [
              "<Figure size 216x216 with 2 Axes>"
            ],
            "image/png": "[encoded data removed]"
          },
          "metadata": {
            "needs_background": "light"
          }
        }
      ],
      "source": [
        "from sklearn.metrics import confusion_matrix, ConfusionMatrixDisplay, classification_report\n",
        "\n",
        "y_pred = []\n",
        "y_true = []\n",
        "with torch.no_grad():\n",
        "    for inputs, labels in dataloaders['train']:\n",
        "       \n",
        "        inputs, labels = inputs.to(device), labels.to(device)\n",
        "\n",
        "        output = model_conv(inputs)\n",
        "        output = (torch.max(output, 1)[1]).data.cpu().numpy()\n",
        "        y_pred.extend(output) #save prediction\n",
        "\n",
        "        labels =labels.data.cpu().numpy()\n",
        "        y_true.extend(labels)   #save truth\n",
        "\n",
        "print(\"Train set classification report\\n\")\n",
        "print(classification_report(y_true, y_pred))\n",
        "\n",
        "cm = confusion_matrix(y_true,y_pred,normalize='true')\n",
        "display = ConfusionMatrixDisplay(cm, display_labels=class_names)\n",
        "\n",
        "fig, ax = plt.subplots(figsize=(3,3))\n",
        "display.plot(ax=ax, values_format='.2f')\n",
        "fig.suptitle('Normalized Confusion matrix train set')\n",
        "plt.show()\n",
        "\n",
        "y_pred = []\n",
        "y_true = []\n",
        "with torch.no_grad():\n",
        "    for inputs, labels in dataloaders['val']:\n",
        "       \n",
        "        inputs, labels = inputs.to(device), labels.to(device)\n",
        "\n",
        "        output = model_conv(inputs)\n",
        "        output = (torch.max(output, 1)[1]).data.cpu().numpy()\n",
        "        y_pred.extend(output) #save prediction\n",
        "\n",
        "        labels =labels.data.cpu().numpy()\n",
        "        y_true.extend(labels)   #save truth\n",
        "\n",
        "print(\"Validation set classification report\\n\")\n",
        "print(classification_report(y_true, y_pred))\n",
        "\n",
        "cm = confusion_matrix(y_true,y_pred, normalize='true')\n",
        "display = ConfusionMatrixDisplay(cm, display_labels=class_names)\n",
        "\n",
        "fig, ax = plt.subplots(figsize=(3,3))\n",
        "display.plot(ax=ax, values_format='.2f')\n",
        "fig.suptitle('Normalized Confusion matrix val set')\n",
        "plt.show()\n",
        "\n"
      ]
    },
    {
      "cell_type": "code",
      "execution_count": null,
      "id": "914daebc",
      "metadata": {
        "id": "914daebc",
        "outputId": "e78e27da-6818-46d3-ae4e-7ab945e9d073",
        "colab": {
          "base_uri": "https://localhost:8080/",
          "height": 235
        }
      },
      "outputs": [
        {
          "output_type": "error",
          "ename": "NameError",
          "evalue": "ignored",
          "traceback": [
            "\u001b[0;31m---------------------------------------------------------------------------\u001b[0m",
            "\u001b[0;31mNameError\u001b[0m                                 Traceback (most recent call last)",
            "\u001b[0;32m<ipython-input-1-24793bf7eece>\u001b[0m in \u001b[0;36m<module>\u001b[0;34m\u001b[0m\n\u001b[1;32m      2\u001b[0m \u001b[0my_pred\u001b[0m \u001b[0;34m=\u001b[0m \u001b[0;34m[\u001b[0m\u001b[0;34m]\u001b[0m\u001b[0;34m\u001b[0m\u001b[0;34m\u001b[0m\u001b[0m\n\u001b[1;32m      3\u001b[0m \u001b[0my_true\u001b[0m \u001b[0;34m=\u001b[0m \u001b[0;34m[\u001b[0m\u001b[0;34m]\u001b[0m\u001b[0;34m\u001b[0m\u001b[0;34m\u001b[0m\u001b[0m\n\u001b[0;32m----> 4\u001b[0;31m \u001b[0;32mwith\u001b[0m \u001b[0mtorch\u001b[0m\u001b[0;34m.\u001b[0m\u001b[0mno_grad\u001b[0m\u001b[0;34m(\u001b[0m\u001b[0;34m)\u001b[0m\u001b[0;34m:\u001b[0m\u001b[0;34m\u001b[0m\u001b[0;34m\u001b[0m\u001b[0m\n\u001b[0m\u001b[1;32m      5\u001b[0m     \u001b[0;32mfor\u001b[0m \u001b[0minputs\u001b[0m\u001b[0;34m,\u001b[0m \u001b[0mlabels\u001b[0m \u001b[0;32min\u001b[0m \u001b[0mdataloaders\u001b[0m\u001b[0;34m[\u001b[0m\u001b[0;34m'test'\u001b[0m\u001b[0;34m]\u001b[0m\u001b[0;34m:\u001b[0m\u001b[0;34m\u001b[0m\u001b[0;34m\u001b[0m\u001b[0m\n\u001b[1;32m      6\u001b[0m \u001b[0;34m\u001b[0m\u001b[0m\n",
            "\u001b[0;31mNameError\u001b[0m: name 'torch' is not defined"
          ]
        }
      ],
      "source": [
        "#Confusion matrix on test data\n",
        "y_pred = []\n",
        "y_true = []\n",
        "with torch.no_grad():\n",
        "    for inputs, labels in dataloaders['test']:\n",
        "       \n",
        "        inputs, labels = inputs.to(device), labels.to(device)\n",
        "\n",
        "        output = model_conv(inputs)\n",
        "        output = (torch.max(output, 1)[1]).data.cpu().numpy()\n",
        "        y_pred.extend(output) #save prediction\n",
        "\n",
        "        labels =labels.data.cpu().numpy()\n",
        "        y_true.extend(labels)   #save truth\n",
        "\n",
        "print(\"Test set classification report\\n\")\n",
        "print(classification_report(y_true, y_pred))\n",
        "\n",
        "cm = confusion_matrix(y_true,y_pred, normalize='true')\n",
        "display = ConfusionMatrixDisplay(cm, display_labels=class_names)\n",
        "\n",
        "fig, ax = plt.subplots(figsize=(3,3))\n",
        "display.plot(ax=ax, values_format='.2f')\n",
        "fig.suptitle('Normalized Confusion matrix test set')\n",
        "plt.show()"
      ]
    },
    {
      "cell_type": "code",
      "execution_count": null,
      "id": "376df523",
      "metadata": {
        "id": "376df523"
      },
      "outputs": [],
      "source": []
    }
  ],
  "metadata": {
    "kernelspec": {
      "display_name": "Python 3 (ipykernel)",
      "language": "python",
      "name": "python3"
    },
    "language_info": {
      "codemirror_mode": {
        "name": "ipython",
        "version": 3
      },
      "file_extension": ".py",
      "mimetype": "text/x-python",
      "name": "python",
      "nbconvert_exporter": "python",
      "pygments_lexer": "ipython3",
      "version": "3.9.13"
    },
    "colab": {
      "provenance": []
    },
    "gpuClass": "standard",
    "accelerator": "GPU",
    "widgets": {
      "application/vnd.jupyter.widget-state+json": {
        "1fe382ba4e754435a5fe4a0993c0d4b6": {
          "model_module": "@jupyter-widgets/controls",
          "model_name": "HBoxModel",
          "model_module_version": "1.5.0",
          "state": {
            "_dom_classes": [],
            "_model_module": "@jupyter-widgets/controls",
            "_model_module_version": "1.5.0",
            "_model_name": "HBoxModel",
            "_view_count": null,
            "_view_module": "@jupyter-widgets/controls",
            "_view_module_version": "1.5.0",
            "_view_name": "HBoxView",
            "box_style": "",
            "children": [
              "IPY_MODEL_a5534f75c0e34033a1e4aec6cbb97a57",
              "IPY_MODEL_eb716346e5964d83953594429b8958b4",
              "IPY_MODEL_1a06ab2e5f8b4fc39e8339f29a09b9dc"
            ],
            "layout": "IPY_MODEL_52f3e78556c244869b80adf3e8ce7963"
          }
        },
        "a5534f75c0e34033a1e4aec6cbb97a57": {
          "model_module": "@jupyter-widgets/controls",
          "model_name": "HTMLModel",
          "model_module_version": "1.5.0",
          "state": {
            "_dom_classes": [],
            "_model_module": "@jupyter-widgets/controls",
            "_model_module_version": "1.5.0",
            "_model_name": "HTMLModel",
            "_view_count": null,
            "_view_module": "@jupyter-widgets/controls",
            "_view_module_version": "1.5.0",
            "_view_name": "HTMLView",
            "description": "",
            "description_tooltip": null,
            "layout": "IPY_MODEL_8432580d08de4cedb8c39b35fc3bcd68",
            "placeholder": "​",
            "style": "IPY_MODEL_674d7b321262456d95e1670974dc11c6",
            "value": "100%"
          }
        },
        "eb716346e5964d83953594429b8958b4": {
          "model_module": "@jupyter-widgets/controls",
          "model_name": "FloatProgressModel",
          "model_module_version": "1.5.0",
          "state": {
            "_dom_classes": [],
            "_model_module": "@jupyter-widgets/controls",
            "_model_module_version": "1.5.0",
            "_model_name": "FloatProgressModel",
            "_view_count": null,
            "_view_module": "@jupyter-widgets/controls",
            "_view_module_version": "1.5.0",
            "_view_name": "ProgressView",
            "bar_style": "success",
            "description": "",
            "description_tooltip": null,
            "layout": "IPY_MODEL_cfed61fb984f4ffd97ca36b35bce7c8c",
            "max": 46830571,
            "min": 0,
            "orientation": "horizontal",
            "style": "IPY_MODEL_f485eed5e47141c5b5633aeb32c96791",
            "value": 46830571
          }
        },
        "1a06ab2e5f8b4fc39e8339f29a09b9dc": {
          "model_module": "@jupyter-widgets/controls",
          "model_name": "HTMLModel",
          "model_module_version": "1.5.0",
          "state": {
            "_dom_classes": [],
            "_model_module": "@jupyter-widgets/controls",
            "_model_module_version": "1.5.0",
            "_model_name": "HTMLModel",
            "_view_count": null,
            "_view_module": "@jupyter-widgets/controls",
            "_view_module_version": "1.5.0",
            "_view_name": "HTMLView",
            "description": "",
            "description_tooltip": null,
            "layout": "IPY_MODEL_1b645c9c4c194eb981dccc6a82f903d3",
            "placeholder": "​",
            "style": "IPY_MODEL_4a4dd43594e941ce9ad857ab1263732c",
            "value": " 44.7M/44.7M [00:00&lt;00:00, 203MB/s]"
          }
        },
        "52f3e78556c244869b80adf3e8ce7963": {
          "model_module": "@jupyter-widgets/base",
          "model_name": "LayoutModel",
          "model_module_version": "1.2.0",
          "state": {
            "_model_module": "@jupyter-widgets/base",
            "_model_module_version": "1.2.0",
            "_model_name": "LayoutModel",
            "_view_count": null,
            "_view_module": "@jupyter-widgets/base",
            "_view_module_version": "1.2.0",
            "_view_name": "LayoutView",
            "align_content": null,
            "align_items": null,
            "align_self": null,
            "border": null,
            "bottom": null,
            "display": null,
            "flex": null,
            "flex_flow": null,
            "grid_area": null,
            "grid_auto_columns": null,
            "grid_auto_flow": null,
            "grid_auto_rows": null,
            "grid_column": null,
            "grid_gap": null,
            "grid_row": null,
            "grid_template_areas": null,
            "grid_template_columns": null,
            "grid_template_rows": null,
            "height": null,
            "justify_content": null,
            "justify_items": null,
            "left": null,
            "margin": null,
            "max_height": null,
            "max_width": null,
            "min_height": null,
            "min_width": null,
            "object_fit": null,
            "object_position": null,
            "order": null,
            "overflow": null,
            "overflow_x": null,
            "overflow_y": null,
            "padding": null,
            "right": null,
            "top": null,
            "visibility": null,
            "width": null
          }
        },
        "8432580d08de4cedb8c39b35fc3bcd68": {
          "model_module": "@jupyter-widgets/base",
          "model_name": "LayoutModel",
          "model_module_version": "1.2.0",
          "state": {
            "_model_module": "@jupyter-widgets/base",
            "_model_module_version": "1.2.0",
            "_model_name": "LayoutModel",
            "_view_count": null,
            "_view_module": "@jupyter-widgets/base",
            "_view_module_version": "1.2.0",
            "_view_name": "LayoutView",
            "align_content": null,
            "align_items": null,
            "align_self": null,
            "border": null,
            "bottom": null,
            "display": null,
            "flex": null,
            "flex_flow": null,
            "grid_area": null,
            "grid_auto_columns": null,
            "grid_auto_flow": null,
            "grid_auto_rows": null,
            "grid_column": null,
            "grid_gap": null,
            "grid_row": null,
            "grid_template_areas": null,
            "grid_template_columns": null,
            "grid_template_rows": null,
            "height": null,
            "justify_content": null,
            "justify_items": null,
            "left": null,
            "margin": null,
            "max_height": null,
            "max_width": null,
            "min_height": null,
            "min_width": null,
            "object_fit": null,
            "object_position": null,
            "order": null,
            "overflow": null,
            "overflow_x": null,
            "overflow_y": null,
            "padding": null,
            "right": null,
            "top": null,
            "visibility": null,
            "width": null
          }
        },
        "674d7b321262456d95e1670974dc11c6": {
          "model_module": "@jupyter-widgets/controls",
          "model_name": "DescriptionStyleModel",
          "model_module_version": "1.5.0",
          "state": {
            "_model_module": "@jupyter-widgets/controls",
            "_model_module_version": "1.5.0",
            "_model_name": "DescriptionStyleModel",
            "_view_count": null,
            "_view_module": "@jupyter-widgets/base",
            "_view_module_version": "1.2.0",
            "_view_name": "StyleView",
            "description_width": ""
          }
        },
        "cfed61fb984f4ffd97ca36b35bce7c8c": {
          "model_module": "@jupyter-widgets/base",
          "model_name": "LayoutModel",
          "model_module_version": "1.2.0",
          "state": {
            "_model_module": "@jupyter-widgets/base",
            "_model_module_version": "1.2.0",
            "_model_name": "LayoutModel",
            "_view_count": null,
            "_view_module": "@jupyter-widgets/base",
            "_view_module_version": "1.2.0",
            "_view_name": "LayoutView",
            "align_content": null,
            "align_items": null,
            "align_self": null,
            "border": null,
            "bottom": null,
            "display": null,
            "flex": null,
            "flex_flow": null,
            "grid_area": null,
            "grid_auto_columns": null,
            "grid_auto_flow": null,
            "grid_auto_rows": null,
            "grid_column": null,
            "grid_gap": null,
            "grid_row": null,
            "grid_template_areas": null,
            "grid_template_columns": null,
            "grid_template_rows": null,
            "height": null,
            "justify_content": null,
            "justify_items": null,
            "left": null,
            "margin": null,
            "max_height": null,
            "max_width": null,
            "min_height": null,
            "min_width": null,
            "object_fit": null,
            "object_position": null,
            "order": null,
            "overflow": null,
            "overflow_x": null,
            "overflow_y": null,
            "padding": null,
            "right": null,
            "top": null,
            "visibility": null,
            "width": null
          }
        },
        "f485eed5e47141c5b5633aeb32c96791": {
          "model_module": "@jupyter-widgets/controls",
          "model_name": "ProgressStyleModel",
          "model_module_version": "1.5.0",
          "state": {
            "_model_module": "@jupyter-widgets/controls",
            "_model_module_version": "1.5.0",
            "_model_name": "ProgressStyleModel",
            "_view_count": null,
            "_view_module": "@jupyter-widgets/base",
            "_view_module_version": "1.2.0",
            "_view_name": "StyleView",
            "bar_color": null,
            "description_width": ""
          }
        },
        "1b645c9c4c194eb981dccc6a82f903d3": {
          "model_module": "@jupyter-widgets/base",
          "model_name": "LayoutModel",
          "model_module_version": "1.2.0",
          "state": {
            "_model_module": "@jupyter-widgets/base",
            "_model_module_version": "1.2.0",
            "_model_name": "LayoutModel",
            "_view_count": null,
            "_view_module": "@jupyter-widgets/base",
            "_view_module_version": "1.2.0",
            "_view_name": "LayoutView",
            "align_content": null,
            "align_items": null,
            "align_self": null,
            "border": null,
            "bottom": null,
            "display": null,
            "flex": null,
            "flex_flow": null,
            "grid_area": null,
            "grid_auto_columns": null,
            "grid_auto_flow": null,
            "grid_auto_rows": null,
            "grid_column": null,
            "grid_gap": null,
            "grid_row": null,
            "grid_template_areas": null,
            "grid_template_columns": null,
            "grid_template_rows": null,
            "height": null,
            "justify_content": null,
            "justify_items": null,
            "left": null,
            "margin": null,
            "max_height": null,
            "max_width": null,
            "min_height": null,
            "min_width": null,
            "object_fit": null,
            "object_position": null,
            "order": null,
            "overflow": null,
            "overflow_x": null,
            "overflow_y": null,
            "padding": null,
            "right": null,
            "top": null,
            "visibility": null,
            "width": null
          }
        },
        "4a4dd43594e941ce9ad857ab1263732c": {
          "model_module": "@jupyter-widgets/controls",
          "model_name": "DescriptionStyleModel",
          "model_module_version": "1.5.0",
          "state": {
            "_model_module": "@jupyter-widgets/controls",
            "_model_module_version": "1.5.0",
            "_model_name": "DescriptionStyleModel",
            "_view_count": null,
            "_view_module": "@jupyter-widgets/base",
            "_view_module_version": "1.2.0",
            "_view_name": "StyleView",
            "description_width": ""
          }
        }
      }
    }
  },
  "nbformat": 4,
  "nbformat_minor": 5
}